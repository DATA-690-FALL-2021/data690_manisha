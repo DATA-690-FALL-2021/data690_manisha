{
  "nbformat": 4,
  "nbformat_minor": 0,
  "metadata": {
    "colab": {
      "name": "assignment_01.ipynb",
      "provenance": [],
      "collapsed_sections": [],
      "authorship_tag": "ABX9TyPESDppDRQrZnkTGZV0BqUJ",
      "include_colab_link": true
    },
    "kernelspec": {
      "name": "python3",
      "display_name": "Python 3"
    },
    "language_info": {
      "name": "python"
    }
  },
  "cells": [
    {
      "cell_type": "markdown",
      "metadata": {
        "id": "view-in-github",
        "colab_type": "text"
      },
      "source": [
        "<a href=\"https://colab.research.google.com/github/bmanisha7/data690_manisha/blob/main/assignment_01/assignment_01.ipynb\" target=\"_parent\"><img src=\"https://colab.research.google.com/assets/colab-badge.svg\" alt=\"Open In Colab\"/></a>"
      ]
    },
    {
      "cell_type": "markdown",
      "metadata": {
        "id": "ZdJ4HndRoNIT"
      },
      "source": [
        "# Assignment 1 for DATA 690 FALL 2021\n",
        "\n",
        "- Instructor: Dr. Jay Wang\n",
        "- Student: Manisha Basavanna\n",
        "- Date: 09/02/2021\n",
        "\n",
        "This is for demostrating the use of Jupyter Notebook"
      ]
    },
    {
      "cell_type": "markdown",
      "metadata": {
        "id": "_e22O6FAowPl"
      },
      "source": [
        "# 1. Simplest Python Code"
      ]
    },
    {
      "cell_type": "code",
      "metadata": {
        "colab": {
          "base_uri": "https://localhost:8080/"
        },
        "id": "8Q7PSuCjo9Qp",
        "outputId": "159d253f-965b-4f99-ed9a-20deb9afd273"
      },
      "source": [
        "print(\"Hello World\")"
      ],
      "execution_count": null,
      "outputs": [
        {
          "output_type": "stream",
          "name": "stdout",
          "text": [
            "Hello World\n"
          ]
        }
      ]
    },
    {
      "cell_type": "markdown",
      "metadata": {
        "id": "ZRnefxK9pWUv"
      },
      "source": [
        "#2. Perform Multiplication\n",
        " "
      ]
    },
    {
      "cell_type": "code",
      "metadata": {
        "colab": {
          "base_uri": "https://localhost:8080/"
        },
        "id": "kLB-LdsspAiE",
        "outputId": "f09f6bca-3877-4177-e1cd-9bd5f40e55e5"
      },
      "source": [
        "x = 10*2\n",
        "print(x)"
      ],
      "execution_count": null,
      "outputs": [
        {
          "output_type": "stream",
          "name": "stdout",
          "text": [
            "20\n"
          ]
        }
      ]
    },
    {
      "cell_type": "markdown",
      "metadata": {
        "id": "GdGFUXX2pelf"
      },
      "source": [
        "#3. Perform Division\n"
      ]
    },
    {
      "cell_type": "code",
      "metadata": {
        "colab": {
          "base_uri": "https://localhost:8080/"
        },
        "id": "QnoWNBKepFa0",
        "outputId": "eaf95b56-93f7-473f-8117-f5fd907f3002"
      },
      "source": [
        "y = 100\n",
        "z = y/x\n",
        "print(z)"
      ],
      "execution_count": null,
      "outputs": [
        {
          "output_type": "stream",
          "name": "stdout",
          "text": [
            "5.0\n"
          ]
        }
      ]
    },
    {
      "cell_type": "markdown",
      "metadata": {
        "id": "q6WhlRGLph8R"
      },
      "source": [
        "#4. Perform Addition\n"
      ]
    },
    {
      "cell_type": "code",
      "metadata": {
        "colab": {
          "base_uri": "https://localhost:8080/"
        },
        "id": "1Q5h3KXEpQ_A",
        "outputId": "a6c25261-1600-479c-b81b-89d933575686"
      },
      "source": [
        "print(100 + 200)"
      ],
      "execution_count": null,
      "outputs": [
        {
          "output_type": "stream",
          "name": "stdout",
          "text": [
            "300\n"
          ]
        }
      ]
    }
  ]
}