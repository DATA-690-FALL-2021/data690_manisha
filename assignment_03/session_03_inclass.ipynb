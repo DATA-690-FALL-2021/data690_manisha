{
  "nbformat": 4,
  "nbformat_minor": 0,
  "metadata": {
    "colab": {
      "name": "session_03_inclass.ipynb",
      "provenance": [],
      "authorship_tag": "ABX9TyMXes8y+AQNoAYBTtqp8MHb",
      "include_colab_link": true
    },
    "kernelspec": {
      "name": "python3",
      "display_name": "Python 3"
    },
    "language_info": {
      "name": "python"
    }
  },
  "cells": [
    {
      "cell_type": "markdown",
      "metadata": {
        "id": "view-in-github",
        "colab_type": "text"
      },
      "source": [
        "<a href=\"https://colab.research.google.com/github/bmanisha7/data690_manisha/blob/main/assignment_03/session_03_inclass.ipynb\" target=\"_parent\"><img src=\"https://colab.research.google.com/assets/colab-badge.svg\" alt=\"Open In Colab\"/></a>"
      ]
    },
    {
      "cell_type": "markdown",
      "metadata": {
        "id": "LZV6_Rcu8etn"
      },
      "source": [
        "# Session 3 in Classs Practice\n",
        "- Manisha Basavanna\n",
        "- September 19"
      ]
    },
    {
      "cell_type": "markdown",
      "metadata": {
        "id": "8WqQ6Uiv86Js"
      },
      "source": [
        "### 1. List Comprehension"
      ]
    },
    {
      "cell_type": "code",
      "metadata": {
        "colab": {
          "base_uri": "https://localhost:8080/"
        },
        "id": "b_eSh9U68aUP",
        "outputId": "f6c657d5-edcc-4239-f775-4f391b0fe53f"
      },
      "source": [
        "#This is traditional way using for loop\n",
        "\n",
        "x = [2, 5, -7, 10, 12]\n",
        "\n",
        "y= []\n",
        "\n",
        "for i in x:\n",
        "  new_number = i + 10\n",
        "  print(new_number)\n",
        "  y.append(new_number)\n",
        "\n",
        "print(y)  "
      ],
      "execution_count": 3,
      "outputs": [
        {
          "output_type": "stream",
          "name": "stdout",
          "text": [
            "[12, 15, 3, 20, 22]\n"
          ]
        }
      ]
    },
    {
      "cell_type": "code",
      "metadata": {
        "colab": {
          "base_uri": "https://localhost:8080/"
        },
        "id": "C86QW9yE9MDE",
        "outputId": "e3a3699a-8fbf-4c1a-80fe-a6a6daae4857"
      },
      "source": [
        "# This is a new way using list comprehension\n",
        "\n",
        "y = [i + 10 for i in x]\n",
        "\n",
        "print(y)"
      ],
      "execution_count": 4,
      "outputs": [
        {
          "output_type": "stream",
          "name": "stdout",
          "text": [
            "[12, 15, 3, 20, 22]\n"
          ]
        }
      ]
    },
    {
      "cell_type": "markdown",
      "metadata": {
        "id": "EaiVil7n-5BB"
      },
      "source": [
        "## 2. User-defines Function"
      ]
    },
    {
      "cell_type": "code",
      "metadata": {
        "id": "hHcKebS5-iEu"
      },
      "source": [
        "# addition\n",
        "\n",
        "def addition(a, b):\n",
        "    return a + b\n"
      ],
      "execution_count": 7,
      "outputs": []
    },
    {
      "cell_type": "code",
      "metadata": {
        "colab": {
          "base_uri": "https://localhost:8080/"
        },
        "id": "PAbBK3Ip_uqJ",
        "outputId": "07a7200f-ca06-4615-b262-c7c0b8dfde26"
      },
      "source": [
        "y = addition(5, 10)\n",
        "print(y)"
      ],
      "execution_count": 8,
      "outputs": [
        {
          "output_type": "stream",
          "name": "stdout",
          "text": [
            "15\n"
          ]
        }
      ]
    },
    {
      "cell_type": "code",
      "metadata": {
        "id": "pXziDj6B_yaX"
      },
      "source": [
        "# division\n",
        "\n",
        "def division(x , y):\n",
        "  return x/y"
      ],
      "execution_count": 9,
      "outputs": []
    },
    {
      "cell_type": "code",
      "metadata": {
        "colab": {
          "base_uri": "https://localhost:8080/"
        },
        "id": "KjXdmAWf__bo",
        "outputId": "4c4bd5c8-1254-41bc-86fe-466ac1cdf299"
      },
      "source": [
        "f = division(10,2)\n",
        "print(f) "
      ],
      "execution_count": 10,
      "outputs": [
        {
          "output_type": "stream",
          "name": "stdout",
          "text": [
            "5.0\n"
          ]
        }
      ]
    },
    {
      "cell_type": "code",
      "metadata": {
        "id": "6cFwWwZuAFXB"
      },
      "source": [
        ""
      ],
      "execution_count": null,
      "outputs": []
    }
  ]
}