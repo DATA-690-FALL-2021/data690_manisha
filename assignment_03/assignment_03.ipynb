{
  "nbformat": 4,
  "nbformat_minor": 0,
  "metadata": {
    "colab": {
      "name": "assignment_03.ipynb",
      "provenance": [],
      "authorship_tag": "ABX9TyMM/ZY14pSmMajIISHqoChk",
      "include_colab_link": true
    },
    "kernelspec": {
      "name": "python3",
      "display_name": "Python 3"
    },
    "language_info": {
      "name": "python"
    }
  },
  "cells": [
    {
      "cell_type": "markdown",
      "metadata": {
        "id": "view-in-github",
        "colab_type": "text"
      },
      "source": [
        "<a href=\"https://colab.research.google.com/github/bmanisha7/data690_manisha/blob/main/assignment_03/assignment_03.ipynb\" target=\"_parent\"><img src=\"https://colab.research.google.com/assets/colab-badge.svg\" alt=\"Open In Colab\"/></a>"
      ]
    },
    {
      "cell_type": "markdown",
      "metadata": {
        "id": "4HMwVxrbYhUF"
      },
      "source": [
        "## 1. Print a random 10 by 10 matrix"
      ]
    },
    {
      "cell_type": "code",
      "metadata": {
        "colab": {
          "base_uri": "https://localhost:8080/"
        },
        "id": "jnAEGYpFjxn1",
        "outputId": "39da8ea1-c12d-46ef-a3b1-3c8064248765"
      },
      "source": [
        "import numpy as np\n",
        "\n",
        "for i in range(10):\n",
        "\n",
        "  for j in range(10):\n",
        "    print(np.random.randint(10),end=\" \")\n",
        "    j+=1\n",
        "\n",
        "  i+=1\n",
        "  \n",
        "  print(\"\\n\",end=\"\")"
      ],
      "execution_count": 17,
      "outputs": [
        {
          "output_type": "stream",
          "name": "stdout",
          "text": [
            "1 8 7 5 9 6 1 2 8 5 \n",
            "4 2 4 3 5 4 6 3 5 5 \n",
            "5 5 8 6 3 1 4 5 2 2 \n",
            "2 5 9 0 5 8 1 4 4 4 \n",
            "1 5 8 6 8 0 9 7 3 0 \n",
            "3 4 6 5 3 1 1 3 5 2 \n",
            "4 6 8 6 6 0 3 0 5 1 \n",
            "8 3 6 6 2 0 4 3 5 7 \n",
            "2 7 7 5 3 3 3 6 2 3 \n",
            "9 8 4 8 8 5 8 2 5 9 \n"
          ]
        }
      ]
    },
    {
      "cell_type": "markdown",
      "metadata": {
        "id": "NkQ9APaBwP3u"
      },
      "source": [
        "## 2. If the random number is an odd number, print \"@\" instead."
      ]
    },
    {
      "cell_type": "code",
      "metadata": {
        "colab": {
          "base_uri": "https://localhost:8080/"
        },
        "id": "vO7_zsVemBde",
        "outputId": "1a38b42a-74e2-4d19-abee-204f97b30c5c"
      },
      "source": [
        "import numpy as np\n",
        "for i in range(10):\n",
        "\n",
        "  for j in range(10):\n",
        "     x= np.random.randint(10)\n",
        "\n",
        "     if x%2==0:\n",
        "       print(x,end=\" \")\n",
        "     else:\n",
        "       print(\"@\",end=\" \")\n",
        "\n",
        "     j+=1\n",
        "     \n",
        "  i+=1\n",
        "  print(\"\\n\",end=\"\")"
      ],
      "execution_count": 16,
      "outputs": [
        {
          "output_type": "stream",
          "name": "stdout",
          "text": [
            "4 @ @ @ @ @ @ 0 @ 2 \n",
            "@ @ @ @ 6 2 0 8 2 @ \n",
            "@ @ 0 2 2 2 4 @ @ @ \n",
            "@ @ 0 @ @ 6 @ 8 2 @ \n",
            "@ 2 @ @ @ 0 6 6 2 @ \n",
            "@ @ @ @ @ @ 0 @ 6 @ \n",
            "@ @ 8 @ 8 @ @ @ @ 0 \n",
            "@ 8 @ @ @ @ 8 @ 2 6 \n",
            "8 @ 2 8 @ 2 @ @ 2 0 \n",
            "0 @ @ 6 @ 8 @ @ 8 0 \n"
          ]
        }
      ]
    },
    {
      "cell_type": "markdown",
      "metadata": {
        "id": "CJFOTgoBwYsI"
      },
      "source": [
        "## 3. Calculate and Print the total of each row (use \"*\" to separate the total from the numbers)."
      ]
    },
    {
      "cell_type": "code",
      "metadata": {
        "colab": {
          "base_uri": "https://localhost:8080/"
        },
        "id": "yqjIrRYkpoFe",
        "outputId": "5f4eca1c-c664-4605-811b-6b1d7a4ed4da"
      },
      "source": [
        "import numpy as np\n",
        "b = 0\n",
        "for i in range(10):\n",
        "\n",
        "  for j in range(10):\n",
        "    a = np.random.randint(0,10)\n",
        "    print(a,end=\" \")  \n",
        "    b = b+a\n",
        "    j+=1\n",
        "    \n",
        "  i+=1\n",
        "  print(\"*\",b) "
      ],
      "execution_count": null,
      "outputs": [
        {
          "output_type": "stream",
          "name": "stdout",
          "text": [
            "9 1 4 7 0 9 5 7 7 1 * 50\n",
            "2 8 3 5 5 6 0 1 8 6 * 94\n",
            "7 4 2 9 1 0 7 5 3 1 * 133\n",
            "8 1 5 3 9 0 3 3 4 4 * 173\n",
            "1 6 0 3 2 8 6 1 0 1 * 201\n",
            "6 6 6 8 8 0 7 5 1 7 * 255\n",
            "0 7 7 6 9 1 5 7 1 5 * 303\n",
            "9 0 9 6 4 6 1 8 5 1 * 352\n",
            "1 4 9 8 6 9 3 5 1 2 * 400\n",
            "5 9 8 3 2 9 7 3 3 1 * 450\n"
          ]
        }
      ]
    },
    {
      "cell_type": "markdown",
      "metadata": {
        "id": "749sBDQMwyYi"
      },
      "source": [
        "## 4. Optional: Surround the matrix with asterisks (*) like the following:"
      ]
    },
    {
      "cell_type": "code",
      "metadata": {
        "id": "515-ZBavudZR",
        "colab": {
          "base_uri": "https://localhost:8080/"
        },
        "outputId": "b970344a-2886-4f1d-ed64-1f2aacaa0a34"
      },
      "source": [
        "import numpy as np\n",
        "print(\"*\"*23)\n",
        "\n",
        "for i in range(10):\n",
        "  print(\"*\",end=\" \")\n",
        "\n",
        "  for j in range(10):\n",
        "    print(np.random.randint(0,10),end=\" \")\n",
        "    j+=1\n",
        "    \n",
        "  i+=1\n",
        "  print(\"*\")\n",
        "  print(end=\"\")\n",
        "print(\"*\"*23)  "
      ],
      "execution_count": 20,
      "outputs": [
        {
          "output_type": "stream",
          "name": "stdout",
          "text": [
            "***********************\n",
            "* 0 8 4 6 5 6 7 4 4 4 *\n",
            "* 3 8 0 0 9 1 9 9 7 6 *\n",
            "* 3 0 6 4 6 3 6 2 1 1 *\n",
            "* 8 8 2 3 5 1 5 4 0 2 *\n",
            "* 5 8 0 3 3 0 5 1 7 4 *\n",
            "* 2 9 0 0 0 0 3 6 2 6 *\n",
            "* 6 8 4 7 3 1 2 6 4 2 *\n",
            "* 9 5 0 9 8 2 9 3 1 0 *\n",
            "* 4 0 5 8 6 7 5 2 5 9 *\n",
            "* 6 9 8 4 5 7 7 0 8 7 *\n",
            "***********************\n"
          ]
        }
      ]
    },
    {
      "cell_type": "markdown",
      "metadata": {
        "id": "W2zyBaP3w_Es"
      },
      "source": [
        "## 5.Optional (challenging): Calculate and Print the total of each row and column."
      ]
    },
    {
      "cell_type": "code",
      "metadata": {
        "colab": {
          "base_uri": "https://localhost:8080/"
        },
        "id": "2xv24oKGqbF3",
        "outputId": "1dbde56d-6ccd-4ff6-d49d-50a33776c863"
      },
      "source": [
        "import numpy\n",
        "matrix = []   \n",
        "\n",
        "k=[]\n",
        "\n",
        "for i in range(10):\n",
        "    a=[]\n",
        "\n",
        "    for j in range(10):\n",
        "        a.append(np.random.randint(0,10))\n",
        "    matrix.append(a)  \n",
        "    \n",
        "for i in range(10):  \n",
        "    b=0\n",
        "    m=0\n",
        "\n",
        "    for j in range(10):   \n",
        "        print(matrix[i][j], end = \"  \")  \n",
        "        b=b+matrix[i][j]\n",
        "        m=m+matrix[j][i]\n",
        "\n",
        "    k.append(m)\n",
        "    print(\"*\",b)\n",
        "\n",
        "print(\"*  \"*10)\n",
        "\n",
        "for i in range(len(k)):\n",
        "    print(k[i],end=\" \")"
      ],
      "execution_count": 84,
      "outputs": [
        {
          "output_type": "stream",
          "name": "stdout",
          "text": [
            "8  0  4  1  0  5  3  8  5  5  * 39\n",
            "0  2  9  8  8  3  5  7  3  0  * 45\n",
            "1  7  1  1  6  6  4  6  5  9  * 46\n",
            "8  0  8  8  8  1  3  7  1  1  * 45\n",
            "5  3  3  0  6  4  9  0  5  0  * 35\n",
            "1  4  3  1  3  2  4  2  1  9  * 30\n",
            "2  5  5  3  4  0  9  6  9  9  * 52\n",
            "8  7  0  4  3  7  6  1  4  4  * 44\n",
            "3  2  8  9  2  4  3  9  1  1  * 42\n",
            "2  6  3  1  2  0  2  9  0  2  * 27\n",
            "*  *  *  *  *  *  *  *  *  *  \n",
            "38 36 44 36 42 32 48 55 34 40 "
          ]
        }
      ]
    }
  ]
}