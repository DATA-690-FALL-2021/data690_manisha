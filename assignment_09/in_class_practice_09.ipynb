{
  "nbformat": 4,
  "nbformat_minor": 0,
  "metadata": {
    "colab": {
      "name": "in_class_practice_09.ipynb",
      "provenance": [],
      "authorship_tag": "ABX9TyOqN/b3B6YDMn5bFh4vYgZe",
      "include_colab_link": true
    },
    "kernelspec": {
      "name": "python3",
      "display_name": "Python 3"
    },
    "language_info": {
      "name": "python"
    }
  },
  "cells": [
    {
      "cell_type": "markdown",
      "metadata": {
        "id": "view-in-github",
        "colab_type": "text"
      },
      "source": [
        "<a href=\"https://colab.research.google.com/github/bmanisha7/data690_manisha/blob/main/assignment_09/in_class_practice_09.ipynb\" target=\"_parent\"><img src=\"https://colab.research.google.com/assets/colab-badge.svg\" alt=\"Open In Colab\"/></a>"
      ]
    },
    {
      "cell_type": "markdown",
      "metadata": {
        "id": "0PDICu5oQ9h_"
      },
      "source": [
        "# In class Practice 9\n",
        "- Name: Mansiha\n",
        "- Date: 0/28/2021"
      ]
    },
    {
      "cell_type": "code",
      "metadata": {
        "id": "kyQDuQrVV6Kk"
      },
      "source": [
        "import math_function as mf"
      ],
      "execution_count": 1,
      "outputs": []
    },
    {
      "cell_type": "code",
      "metadata": {
        "colab": {
          "base_uri": "https://localhost:8080/"
        },
        "id": "M1tVfElHR3L3",
        "outputId": "0c320e45-0ac6-4e84-c73f-b5853a58cef6"
      },
      "source": [
        "a = input(\"enter a number:\")"
      ],
      "execution_count": 2,
      "outputs": [
        {
          "name": "stdout",
          "output_type": "stream",
          "text": [
            "enter a number:100\n"
          ]
        }
      ]
    },
    {
      "cell_type": "code",
      "metadata": {
        "colab": {
          "base_uri": "https://localhost:8080/"
        },
        "id": "zAp-XhxcSJiX",
        "outputId": "ba266cf6-e82a-4101-dcec-918d1ffc9e40"
      },
      "source": [
        "print(a)"
      ],
      "execution_count": 3,
      "outputs": [
        {
          "output_type": "stream",
          "name": "stdout",
          "text": [
            "100\n"
          ]
        }
      ]
    },
    {
      "cell_type": "code",
      "metadata": {
        "colab": {
          "base_uri": "https://localhost:8080/"
        },
        "id": "_OSyXcT4SLOA",
        "outputId": "b6781c83-a925-49f1-f701-397622c2174c"
      },
      "source": [
        "b = input(\"enter a number:\")"
      ],
      "execution_count": 6,
      "outputs": [
        {
          "name": "stdout",
          "output_type": "stream",
          "text": [
            "enter a number:50\n"
          ]
        }
      ]
    },
    {
      "cell_type": "code",
      "metadata": {
        "colab": {
          "base_uri": "https://localhost:8080/"
        },
        "id": "8AmXDop3SS3W",
        "outputId": "1ce4abf9-ffee-4484-b7c3-55b90b3cba2e"
      },
      "source": [
        "print(b)"
      ],
      "execution_count": 7,
      "outputs": [
        {
          "output_type": "stream",
          "name": "stdout",
          "text": [
            "50\n"
          ]
        }
      ]
    },
    {
      "cell_type": "code",
      "metadata": {
        "colab": {
          "base_uri": "https://localhost:8080/"
        },
        "id": "0zp9jwVYUxdG",
        "outputId": "7b851652-aa4a-4054-feda-39390a5df9c8"
      },
      "source": [
        "c=mf.addition(a,b)\n",
        "print(c)"
      ],
      "execution_count": 8,
      "outputs": [
        {
          "output_type": "stream",
          "name": "stdout",
          "text": [
            "10050\n"
          ]
        }
      ]
    },
    {
      "cell_type": "code",
      "metadata": {
        "colab": {
          "base_uri": "https://localhost:8080/"
        },
        "id": "yPQXivgqVORR",
        "outputId": "3e797201-6ea6-497b-9445-9198f20b6555"
      },
      "source": [
        "a = 23\n",
        "b= 50\n",
        "c= mf.addition(a,b)\n",
        "print(c)"
      ],
      "execution_count": 9,
      "outputs": [
        {
          "output_type": "stream",
          "name": "stdout",
          "text": [
            "73\n"
          ]
        }
      ]
    },
    {
      "cell_type": "code",
      "metadata": {
        "colab": {
          "base_uri": "https://localhost:8080/"
        },
        "id": "oYQ3f-QfSUZd",
        "outputId": "dfc9b30b-a8da-4350-ddea-b0ef30003998"
      },
      "source": [
        "c = mf.addition(int(a),int(b))\n",
        "print(c)"
      ],
      "execution_count": 10,
      "outputs": [
        {
          "output_type": "stream",
          "name": "stdout",
          "text": [
            "73\n"
          ]
        }
      ]
    },
    {
      "cell_type": "code",
      "metadata": {
        "id": "6A1Aby0BScZp"
      },
      "source": [
        "#math_fucntion as mf\n",
        "def addition(x,y):\n",
        "  if type(x)=='str' and type(y)=='str':\n",
        "    if x.isnumeric() and y.isnumeric():\n",
        "       return int(x)+int(y)\n",
        "    else:  \n",
        "       raise ValueError(\"The inputs must be numeric.\") \n",
        "  else:\n",
        "    return x+y     \n",
        "def substraction(x,y):\n",
        "  return x-y  "
      ],
      "execution_count": null,
      "outputs": []
    }
  ]
}