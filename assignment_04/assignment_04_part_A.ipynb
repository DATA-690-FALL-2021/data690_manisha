{
  "nbformat": 4,
  "nbformat_minor": 0,
  "metadata": {
    "colab": {
      "name": "assignment_04_part_A.ipynb",
      "provenance": [],
      "authorship_tag": "ABX9TyOSVQEZYpzLRrrqG1ywZhE4",
      "include_colab_link": true
    },
    "kernelspec": {
      "name": "python3",
      "display_name": "Python 3"
    },
    "language_info": {
      "name": "python"
    }
  },
  "cells": [
    {
      "cell_type": "markdown",
      "metadata": {
        "id": "view-in-github",
        "colab_type": "text"
      },
      "source": [
        "<a href=\"https://colab.research.google.com/github/bmanisha7/data690_manisha/blob/main/assignment_04/assignment_04_part_A.ipynb\" target=\"_parent\"><img src=\"https://colab.research.google.com/assets/colab-badge.svg\" alt=\"Open In Colab\"/></a>"
      ]
    },
    {
      "cell_type": "markdown",
      "metadata": {
        "id": "RhedFsYy-ZC2"
      },
      "source": [
        "\n",
        "\n",
        "## 1. Write code to open the text file census_costs.txt and read all lines into a list named \"line_list\". Print line_list.\n"
      ]
    },
    {
      "cell_type": "code",
      "metadata": {
        "colab": {
          "base_uri": "https://localhost:8080/"
        },
        "id": "4rKJWnsE7dCT",
        "outputId": "0639e608-d83d-41ae-ba5a-528467346006"
      },
      "source": [
        "with open(\"census_costs.txt\",\"r\") as f:\n",
        "  l=f.readlines()\n",
        "print(l)"
      ],
      "execution_count": 7,
      "outputs": [
        {
          "output_type": "stream",
          "name": "stdout",
          "text": [
            "['Source: https://www.genealogybranches.com/censuscosts.html\\n', 'Census Year\\tTotal Population\\tCensus Cost\\tAverage Cost Per Person\\n', '1790\\t3,929,214\\t$44,377\\t1.13 cents\\n', '1800\\t5,308,483\\t$66,109\\t1.24 cents\\n', '1810\\t7,239,881\\t$178,445\\t2.46 cents\\n', '1820\\t9,633,822\\t$208,526\\t2.16 cents\\n', '1830\\t12,866,020\\t$378,545\\t2.94 cents\\n', '1840\\t17,069,458\\t$833,371\\t4.88 cents\\n', '1850\\t23,191,876\\t$1,423,351\\t6.14 cents\\n', '1860\\t31,443,321\\t$1,969,377\\t6.26 cents\\n', '1870\\t38,558,371\\t$3,421,198\\t8.87 cents\\n', '1880\\t50,155,783\\t$5,790,678\\t11.54 cents\\n', '1890\\t62,979,766\\t$11,547,127\\t18.33 cents\\n', '1900\\t76,303,387\\t$11,854,000\\t15.54 cents\\n', '1910\\t91,972,266\\t$15,968,000\\t17.07 cents\\n', '1920\\t105,710,620\\t$25,117,000\\t23.76 cents\\n', '1930\\t122,775,046\\t$40,156,000\\t32.71 cents\\n', '1940\\t131,669,275\\t$67,527,000\\t51.29 cents\\n', '1950\\t151,325,798\\t$91,462,000\\t60.44 cents\\n', '1960\\t179,323,175\\t$127,934,000\\t71.34 cents\\n', '1970\\t203,302,031\\t$247,653,000\\t$1.22\\n', '1980\\t226,542,199\\t$1,078,488,000\\t$4.76\\n', '1990\\t248,718,301\\t$2,492,830,000\\t$10.02\\n', '2000\\t281,421,906\\t$4.5 Billion\\t$15.99\\n', '2010*\\t308,745,538\\t$13 Billion\\t$42.11']\n"
          ]
        }
      ]
    },
    {
      "cell_type": "code",
      "metadata": {
        "colab": {
          "base_uri": "https://localhost:8080/"
        },
        "id": "SRNHN_M4-et_",
        "outputId": "fa31eb02-7e87-4131-9deb-7aa419dcb143"
      },
      "source": [
        "line_list=l\n",
        "line_list"
      ],
      "execution_count": 8,
      "outputs": [
        {
          "output_type": "execute_result",
          "data": {
            "text/plain": [
              "['Source: https://www.genealogybranches.com/censuscosts.html\\n',\n",
              " 'Census Year\\tTotal Population\\tCensus Cost\\tAverage Cost Per Person\\n',\n",
              " '1790\\t3,929,214\\t$44,377\\t1.13 cents\\n',\n",
              " '1800\\t5,308,483\\t$66,109\\t1.24 cents\\n',\n",
              " '1810\\t7,239,881\\t$178,445\\t2.46 cents\\n',\n",
              " '1820\\t9,633,822\\t$208,526\\t2.16 cents\\n',\n",
              " '1830\\t12,866,020\\t$378,545\\t2.94 cents\\n',\n",
              " '1840\\t17,069,458\\t$833,371\\t4.88 cents\\n',\n",
              " '1850\\t23,191,876\\t$1,423,351\\t6.14 cents\\n',\n",
              " '1860\\t31,443,321\\t$1,969,377\\t6.26 cents\\n',\n",
              " '1870\\t38,558,371\\t$3,421,198\\t8.87 cents\\n',\n",
              " '1880\\t50,155,783\\t$5,790,678\\t11.54 cents\\n',\n",
              " '1890\\t62,979,766\\t$11,547,127\\t18.33 cents\\n',\n",
              " '1900\\t76,303,387\\t$11,854,000\\t15.54 cents\\n',\n",
              " '1910\\t91,972,266\\t$15,968,000\\t17.07 cents\\n',\n",
              " '1920\\t105,710,620\\t$25,117,000\\t23.76 cents\\n',\n",
              " '1930\\t122,775,046\\t$40,156,000\\t32.71 cents\\n',\n",
              " '1940\\t131,669,275\\t$67,527,000\\t51.29 cents\\n',\n",
              " '1950\\t151,325,798\\t$91,462,000\\t60.44 cents\\n',\n",
              " '1960\\t179,323,175\\t$127,934,000\\t71.34 cents\\n',\n",
              " '1970\\t203,302,031\\t$247,653,000\\t$1.22\\n',\n",
              " '1980\\t226,542,199\\t$1,078,488,000\\t$4.76\\n',\n",
              " '1990\\t248,718,301\\t$2,492,830,000\\t$10.02\\n',\n",
              " '2000\\t281,421,906\\t$4.5 Billion\\t$15.99\\n',\n",
              " '2010*\\t308,745,538\\t$13 Billion\\t$42.11']"
            ]
          },
          "metadata": {},
          "execution_count": 8
        }
      ]
    },
    {
      "cell_type": "code",
      "metadata": {
        "colab": {
          "base_uri": "https://localhost:8080/"
        },
        "id": "hrsedJkh-6us",
        "outputId": "f622da1b-4539-4259-f9f8-2dc52887f7f1"
      },
      "source": [
        "for line in line_list:\n",
        "  print(line)"
      ],
      "execution_count": 9,
      "outputs": [
        {
          "output_type": "stream",
          "name": "stdout",
          "text": [
            "Source: https://www.genealogybranches.com/censuscosts.html\n",
            "\n",
            "Census Year\tTotal Population\tCensus Cost\tAverage Cost Per Person\n",
            "\n",
            "1790\t3,929,214\t$44,377\t1.13 cents\n",
            "\n",
            "1800\t5,308,483\t$66,109\t1.24 cents\n",
            "\n",
            "1810\t7,239,881\t$178,445\t2.46 cents\n",
            "\n",
            "1820\t9,633,822\t$208,526\t2.16 cents\n",
            "\n",
            "1830\t12,866,020\t$378,545\t2.94 cents\n",
            "\n",
            "1840\t17,069,458\t$833,371\t4.88 cents\n",
            "\n",
            "1850\t23,191,876\t$1,423,351\t6.14 cents\n",
            "\n",
            "1860\t31,443,321\t$1,969,377\t6.26 cents\n",
            "\n",
            "1870\t38,558,371\t$3,421,198\t8.87 cents\n",
            "\n",
            "1880\t50,155,783\t$5,790,678\t11.54 cents\n",
            "\n",
            "1890\t62,979,766\t$11,547,127\t18.33 cents\n",
            "\n",
            "1900\t76,303,387\t$11,854,000\t15.54 cents\n",
            "\n",
            "1910\t91,972,266\t$15,968,000\t17.07 cents\n",
            "\n",
            "1920\t105,710,620\t$25,117,000\t23.76 cents\n",
            "\n",
            "1930\t122,775,046\t$40,156,000\t32.71 cents\n",
            "\n",
            "1940\t131,669,275\t$67,527,000\t51.29 cents\n",
            "\n",
            "1950\t151,325,798\t$91,462,000\t60.44 cents\n",
            "\n",
            "1960\t179,323,175\t$127,934,000\t71.34 cents\n",
            "\n",
            "1970\t203,302,031\t$247,653,000\t$1.22\n",
            "\n",
            "1980\t226,542,199\t$1,078,488,000\t$4.76\n",
            "\n",
            "1990\t248,718,301\t$2,492,830,000\t$10.02\n",
            "\n",
            "2000\t281,421,906\t$4.5 Billion\t$15.99\n",
            "\n",
            "2010*\t308,745,538\t$13 Billion\t$42.11\n"
          ]
        }
      ]
    },
    {
      "cell_type": "markdown",
      "metadata": {
        "id": "tHlPXlY1-jOO"
      },
      "source": [
        "## 2. Extract the first two lines and put them in a different list named \"top2_list\". You will need to use them later. Print the top2_list."
      ]
    },
    {
      "cell_type": "code",
      "metadata": {
        "colab": {
          "base_uri": "https://localhost:8080/"
        },
        "id": "6SOk1mG7-0WA",
        "outputId": "fba8a045-9e8e-473b-f704-e245e270279a"
      },
      "source": [
        "top2_list=[]\n",
        "for i in range(0,2):\n",
        "  top2_list.append(line_list[i])\n",
        "for i in top2_list:\n",
        "  print(i)"
      ],
      "execution_count": 10,
      "outputs": [
        {
          "output_type": "stream",
          "name": "stdout",
          "text": [
            "Source: https://www.genealogybranches.com/censuscosts.html\n",
            "\n",
            "Census Year\tTotal Population\tCensus Cost\tAverage Cost Per Person\n",
            "\n"
          ]
        }
      ]
    },
    {
      "cell_type": "markdown",
      "metadata": {
        "id": "3LNZkFng-vOh"
      },
      "source": [
        "## 3. Put the rest of the lines (containing useful data elements) in a new list named \"data_list\". Print data_list."
      ]
    },
    {
      "cell_type": "code",
      "metadata": {
        "colab": {
          "base_uri": "https://localhost:8080/"
        },
        "id": "7TlkHwev_Lbs",
        "outputId": "ba52cb55-7348-427d-bcbe-51c377471e5a"
      },
      "source": [
        "data_list=[]\n",
        "#data_list.append(line_list[0])\n",
        "for i in range(2,len(line_list)):\n",
        "  data_list.append(line_list[i])\n",
        "data_list\n",
        "for i in data_list:\n",
        "  print(i)"
      ],
      "execution_count": 11,
      "outputs": [
        {
          "output_type": "stream",
          "name": "stdout",
          "text": [
            "1790\t3,929,214\t$44,377\t1.13 cents\n",
            "\n",
            "1800\t5,308,483\t$66,109\t1.24 cents\n",
            "\n",
            "1810\t7,239,881\t$178,445\t2.46 cents\n",
            "\n",
            "1820\t9,633,822\t$208,526\t2.16 cents\n",
            "\n",
            "1830\t12,866,020\t$378,545\t2.94 cents\n",
            "\n",
            "1840\t17,069,458\t$833,371\t4.88 cents\n",
            "\n",
            "1850\t23,191,876\t$1,423,351\t6.14 cents\n",
            "\n",
            "1860\t31,443,321\t$1,969,377\t6.26 cents\n",
            "\n",
            "1870\t38,558,371\t$3,421,198\t8.87 cents\n",
            "\n",
            "1880\t50,155,783\t$5,790,678\t11.54 cents\n",
            "\n",
            "1890\t62,979,766\t$11,547,127\t18.33 cents\n",
            "\n",
            "1900\t76,303,387\t$11,854,000\t15.54 cents\n",
            "\n",
            "1910\t91,972,266\t$15,968,000\t17.07 cents\n",
            "\n",
            "1920\t105,710,620\t$25,117,000\t23.76 cents\n",
            "\n",
            "1930\t122,775,046\t$40,156,000\t32.71 cents\n",
            "\n",
            "1940\t131,669,275\t$67,527,000\t51.29 cents\n",
            "\n",
            "1950\t151,325,798\t$91,462,000\t60.44 cents\n",
            "\n",
            "1960\t179,323,175\t$127,934,000\t71.34 cents\n",
            "\n",
            "1970\t203,302,031\t$247,653,000\t$1.22\n",
            "\n",
            "1980\t226,542,199\t$1,078,488,000\t$4.76\n",
            "\n",
            "1990\t248,718,301\t$2,492,830,000\t$10.02\n",
            "\n",
            "2000\t281,421,906\t$4.5 Billion\t$15.99\n",
            "\n",
            "2010*\t308,745,538\t$13 Billion\t$42.11\n"
          ]
        }
      ]
    },
    {
      "cell_type": "markdown",
      "metadata": {
        "id": "TwK5hIJK_YqT"
      },
      "source": [
        "## 4. Extract the column \"Census Year\" from data_list and assign them to a list named year_list. Remove the \"\" from the last element \"2010\". Print the cleansed year_list."
      ]
    },
    {
      "cell_type": "code",
      "metadata": {
        "colab": {
          "base_uri": "https://localhost:8080/"
        },
        "id": "y94Mc7PT_Tpu",
        "outputId": "974bc1e6-5b48-4f27-ae5e-bbe950e1de8e"
      },
      "source": [
        "year_list=[int(i[0:4]) for i in data_list]\n",
        "year_list"
      ],
      "execution_count": 12,
      "outputs": [
        {
          "output_type": "execute_result",
          "data": {
            "text/plain": [
              "[1790,\n",
              " 1800,\n",
              " 1810,\n",
              " 1820,\n",
              " 1830,\n",
              " 1840,\n",
              " 1850,\n",
              " 1860,\n",
              " 1870,\n",
              " 1880,\n",
              " 1890,\n",
              " 1900,\n",
              " 1910,\n",
              " 1920,\n",
              " 1930,\n",
              " 1940,\n",
              " 1950,\n",
              " 1960,\n",
              " 1970,\n",
              " 1980,\n",
              " 1990,\n",
              " 2000,\n",
              " 2010]"
            ]
          },
          "metadata": {},
          "execution_count": 12
        }
      ]
    },
    {
      "cell_type": "markdown",
      "metadata": {
        "id": "hWebPJIG_wL1"
      },
      "source": [
        "## 5. Extract the \"Total Population\" column from the data_list and assign them to a list named \"pop_list\". Remove the \",\" from the numbers since Python doesn't recognize them. Print the cleansed \"pop_list\"."
      ]
    },
    {
      "cell_type": "code",
      "metadata": {
        "id": "lLOxPoce_fxw"
      },
      "source": [
        "import re\n",
        "data=[]\n",
        "pop_list=[]\n",
        "for i in range(len(data_list)):\n",
        "  data.append(data_list[i])"
      ],
      "execution_count": 13,
      "outputs": []
    },
    {
      "cell_type": "code",
      "metadata": {
        "colab": {
          "base_uri": "https://localhost:8080/"
        },
        "id": "swyDxwyi_2J1",
        "outputId": "faac3ea3-b4d5-425e-b4e1-9aef4822ad2a"
      },
      "source": [
        "m = re.compile(r'\\d+\\,+\\d+\\,+\\d+')\n",
        "pop_list=[]\n",
        "for i in range(len(data)):\n",
        "    matchResult = m.search(data[i])\n",
        "    pop_list.append(matchResult.group())\n",
        "for i in range(len(pop_list)):\n",
        "  pop_list[i]=pop_list[i].replace(\",\",\"\")\n",
        "  pop_list[i]=int(float(pop_list[i]))\n",
        "pop_list"
      ],
      "execution_count": 14,
      "outputs": [
        {
          "output_type": "execute_result",
          "data": {
            "text/plain": [
              "[3929214,\n",
              " 5308483,\n",
              " 7239881,\n",
              " 9633822,\n",
              " 12866020,\n",
              " 17069458,\n",
              " 23191876,\n",
              " 31443321,\n",
              " 38558371,\n",
              " 50155783,\n",
              " 62979766,\n",
              " 76303387,\n",
              " 91972266,\n",
              " 105710620,\n",
              " 122775046,\n",
              " 131669275,\n",
              " 151325798,\n",
              " 179323175,\n",
              " 203302031,\n",
              " 226542199,\n",
              " 248718301,\n",
              " 281421906,\n",
              " 308745538]"
            ]
          },
          "metadata": {},
          "execution_count": 14
        }
      ]
    },
    {
      "cell_type": "markdown",
      "metadata": {
        "id": "xqyKqK9n_654"
      },
      "source": [
        "##6. Extract the \"Census Cost\" column from the data_list and assign them to a list named \"cost_list\". Remove the \",\", and \"$\", and \"Billion\". Make sure to add the \"0\"s to the numbers from which you removed \"Billion\". Print the cleansed cost_list."
      ]
    },
    {
      "cell_type": "code",
      "metadata": {
        "colab": {
          "base_uri": "https://localhost:8080/"
        },
        "id": "1ajlFYiN_5ym",
        "outputId": "ea40cd40-b900-4435-ba8b-87912a18eb15"
      },
      "source": [
        "cost_list=[]\n",
        "for i in data:\n",
        "  start=i.find(\"$\") + len(\"$\")\n",
        "  end=i.find(\"\\t\",start)\n",
        "  sub=i[start:end]\n",
        "  cost_list.append(sub)\n",
        "for i in range(len(cost_list)):\n",
        "  cost_list[i]=cost_list[i].replace(\",\",\"\")\n",
        "  if \"Billion\" in cost_list[i]:\n",
        "    cost_list[i]=cost_list[i].replace(\" Billion\",\"\")\n",
        "    cost_list[i]=(float(cost_list[i]))*(10**9)\n",
        "  cost_list[i]=int(float(cost_list[i]))\n",
        "cost_list"
      ],
      "execution_count": 15,
      "outputs": [
        {
          "output_type": "execute_result",
          "data": {
            "text/plain": [
              "[44377,\n",
              " 66109,\n",
              " 178445,\n",
              " 208526,\n",
              " 378545,\n",
              " 833371,\n",
              " 1423351,\n",
              " 1969377,\n",
              " 3421198,\n",
              " 5790678,\n",
              " 11547127,\n",
              " 11854000,\n",
              " 15968000,\n",
              " 25117000,\n",
              " 40156000,\n",
              " 67527000,\n",
              " 91462000,\n",
              " 127934000,\n",
              " 247653000,\n",
              " 1078488000,\n",
              " 2492830000,\n",
              " 4500000000,\n",
              " 13000000000]"
            ]
          },
          "metadata": {},
          "execution_count": 15
        }
      ]
    },
    {
      "cell_type": "markdown",
      "metadata": {
        "id": "3gsvTr0zABbx"
      },
      "source": [
        "## 7. Extract the \"Average Cost per Person\" column from the data_list and assign them to a list named \"avg_list\". Remove the \"cents\", and \"$\". Make sure to divide the numbers in cents by 100 so that all numbers are measured in dollar. Print the cleansed avg_list."
      ]
    },
    {
      "cell_type": "code",
      "metadata": {
        "colab": {
          "base_uri": "https://localhost:8080/"
        },
        "id": "iDr5qgaSAAfm",
        "outputId": "655e4de8-f494-4f8d-c21f-2abd75b5582a"
      },
      "source": [
        "m1= re.compile(r'\\d+\\.+\\d+\\s*\\w+')\n",
        "avg_list1=[]\n",
        "for i in range(len(data)):\n",
        "    matchResult = m1.search(data[i])\n",
        "    avg_list1.append(matchResult.group())\n",
        "\n",
        "avg_list2=[]\n",
        "for i in range(len(avg_list1)):\n",
        "  if \"cents\" in avg_list1[i]:\n",
        "    avg_list2.append(avg_list1[i])\n",
        "\n",
        "for i in range(len(avg_list2)):\n",
        "   avg_list2[i]=avg_list2[i].replace(\" cents\",\"\")\n",
        "   avg_list2[i]=float(avg_list2[i])\n",
        "m2= re.compile(r'\\d+\\.+\\d+\\w+')\n",
        "avg_list3=[]\n",
        "for i in range(len(data)):\n",
        "    matchResult = m2.search(data[i])\n",
        "    avg_list3.append(matchResult.group())\n",
        "for i in range(len(avg_list1)):\n",
        "    avg_list3[i]=float(avg_list3[i])\n",
        "temp1 = [ele for ele in avg_list3 if ele not in avg_list2]\n",
        "for i in range(len(avg_list2)):\n",
        "  avg_list2[i]=avg_list2[i]/100\n",
        "avg_list=[]\n",
        "for i in range(len(avg_list2)):\n",
        "  avg_list.append(avg_list2[i])\n",
        "avg_list=avg_list+temp1\n",
        "\n",
        "avg_list"
      ],
      "execution_count": 16,
      "outputs": [
        {
          "output_type": "execute_result",
          "data": {
            "text/plain": [
              "[0.0113,\n",
              " 0.0124,\n",
              " 0.0246,\n",
              " 0.0216,\n",
              " 0.0294,\n",
              " 0.048799999999999996,\n",
              " 0.061399999999999996,\n",
              " 0.0626,\n",
              " 0.08869999999999999,\n",
              " 0.11539999999999999,\n",
              " 0.1833,\n",
              " 0.15539999999999998,\n",
              " 0.1707,\n",
              " 0.2376,\n",
              " 0.3271,\n",
              " 0.5129,\n",
              " 0.6043999999999999,\n",
              " 0.7134,\n",
              " 1.22,\n",
              " 4.76,\n",
              " 10.02,\n",
              " 15.99,\n",
              " 42.11]"
            ]
          },
          "metadata": {},
          "execution_count": 16
        }
      ]
    },
    {
      "cell_type": "markdown",
      "metadata": {
        "id": "I9q09z6GALpS"
      },
      "source": [
        "## 8. Coalesce the cleansed data and save them to a text file named \"census_cost.csv\". The new file should look similar to the original source file except that it is in comma-delimited format and the numbers have been cleansed. The top two lines from the original file should be retained in the new file."
      ]
    },
    {
      "cell_type": "code",
      "metadata": {
        "colab": {
          "base_uri": "https://localhost:8080/"
        },
        "id": "F0kGS4dyAKlN",
        "outputId": "c703d5f8-bf32-43d6-c9d3-c2b35ad554f6"
      },
      "source": [
        "final_list=[]\n",
        "final_list.append(top2_list[0])\n",
        "final_list.append(top2_list[1])\n",
        "for i in range(0,len(pop_list)):\n",
        "  p = str(year_list[i])+\"  \"+str(pop_list[i])+\" \"+str(cost_list[i])+\"  \"+str(avg_list[i])\n",
        "  final_list.append(p)\n",
        "print(final_list)"
      ],
      "execution_count": 17,
      "outputs": [
        {
          "output_type": "stream",
          "name": "stdout",
          "text": [
            "['Source: https://www.genealogybranches.com/censuscosts.html\\n', 'Census Year\\tTotal Population\\tCensus Cost\\tAverage Cost Per Person\\n', '1790  3929214 44377  0.0113', '1800  5308483 66109  0.0124', '1810  7239881 178445  0.0246', '1820  9633822 208526  0.0216', '1830  12866020 378545  0.0294', '1840  17069458 833371  0.048799999999999996', '1850  23191876 1423351  0.061399999999999996', '1860  31443321 1969377  0.0626', '1870  38558371 3421198  0.08869999999999999', '1880  50155783 5790678  0.11539999999999999', '1890  62979766 11547127  0.1833', '1900  76303387 11854000  0.15539999999999998', '1910  91972266 15968000  0.1707', '1920  105710620 25117000  0.2376', '1930  122775046 40156000  0.3271', '1940  131669275 67527000  0.5129', '1950  151325798 91462000  0.6043999999999999', '1960  179323175 127934000  0.7134', '1970  203302031 247653000  1.22', '1980  226542199 1078488000  4.76', '1990  248718301 2492830000  10.02', '2000  281421906 4500000000  15.99', '2010  308745538 13000000000  42.11']\n"
          ]
        }
      ]
    },
    {
      "cell_type": "markdown",
      "metadata": {
        "id": "zinjkZLNAfqj"
      },
      "source": [
        "## 9. Write code to open the newly-created file \"census_cost.csv\", read all lines and display them. How does it look?"
      ]
    },
    {
      "cell_type": "code",
      "metadata": {
        "id": "DywfPdSJAZ1p"
      },
      "source": [
        "import csv\n",
        "with open(\"census_cost.csv\",\"w\") as f:\n",
        "  for p in final_list:\n",
        "    f.write(p)"
      ],
      "execution_count": 19,
      "outputs": []
    },
    {
      "cell_type": "code",
      "metadata": {
        "colab": {
          "base_uri": "https://localhost:8080/"
        },
        "id": "FjWJH-CuBd4C",
        "outputId": "b807868b-a4a8-4f5e-c5f3-d69ab8844a25"
      },
      "source": [
        "with open(\"census_cost.csv\", \"r\") as d:\n",
        "    displaylist = d.readlines()\n",
        "print(displaylist)"
      ],
      "execution_count": 24,
      "outputs": [
        {
          "output_type": "stream",
          "name": "stdout",
          "text": [
            "['Source: https://www.genealogybranches.com/censuscosts.html\\n', 'Census Year\\tTotal Population\\tCensus Cost\\tAverage Cost Per Person\\n', '1790  3929214 44377  0.01131800  5308483 66109  0.01241810  7239881 178445  0.02461820  9633822 208526  0.02161830  12866020 378545  0.02941840  17069458 833371  0.0487999999999999961850  23191876 1423351  0.0613999999999999961860  31443321 1969377  0.06261870  38558371 3421198  0.088699999999999991880  50155783 5790678  0.115399999999999991890  62979766 11547127  0.18331900  76303387 11854000  0.155399999999999981910  91972266 15968000  0.17071920  105710620 25117000  0.23761930  122775046 40156000  0.32711940  131669275 67527000  0.51291950  151325798 91462000  0.60439999999999991960  179323175 127934000  0.71341970  203302031 247653000  1.221980  226542199 1078488000  4.761990  248718301 2492830000  10.022000  281421906 4500000000  15.992010  308745538 13000000000  42.11']\n"
          ]
        }
      ]
    },
    {
      "cell_type": "code",
      "metadata": {
        "id": "sX21UtuVBk7J"
      },
      "source": [
        ""
      ],
      "execution_count": null,
      "outputs": []
    }
  ]
}