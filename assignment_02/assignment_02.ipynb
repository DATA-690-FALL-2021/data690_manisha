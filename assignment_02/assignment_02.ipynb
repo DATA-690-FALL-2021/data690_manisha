{
  "nbformat": 4,
  "nbformat_minor": 0,
  "metadata": {
    "colab": {
      "name": "assignment_02.ipynb",
      "provenance": [],
      "authorship_tag": "ABX9TyMxmFegeKgL/IoJkcBM2vva",
      "include_colab_link": true
    },
    "kernelspec": {
      "name": "python3",
      "display_name": "Python 3"
    },
    "language_info": {
      "name": "python"
    }
  },
  "cells": [
    {
      "cell_type": "markdown",
      "metadata": {
        "id": "view-in-github",
        "colab_type": "text"
      },
      "source": [
        "<a href=\"https://colab.research.google.com/github/bmanisha7/data690_manisha/blob/main/assignment_02/assignment_02.ipynb\" target=\"_parent\"><img src=\"https://colab.research.google.com/assets/colab-badge.svg\" alt=\"Open In Colab\"/></a>"
      ]
    },
    {
      "cell_type": "markdown",
      "metadata": {
        "id": "4g94WAt3UYTl"
      },
      "source": [
        "## User to enter 10 integers "
      ]
    },
    {
      "cell_type": "code",
      "metadata": {
        "colab": {
          "base_uri": "https://localhost:8080/"
        },
        "id": "nM_-PoVrUD8m",
        "outputId": "b0b5035b-3998-4316-a229-3b96f0894db6"
      },
      "source": [
        "the_list= []\n",
        "for i in range(0,10):\n",
        "  while True:\n",
        "      a= input(\"enter a integer:\")\n",
        "      try:\n",
        "        b = int(a)\n",
        "        the_list.append(b)\n",
        "        print(\"got integer\",a)\n",
        "        break\n",
        "      except:\n",
        "        print(\"You must enter an integer. Please try again.\")\n",
        "\n",
        "print(\"you have entered:\", the_list)"
      ],
      "execution_count": 2,
      "outputs": [
        {
          "output_type": "stream",
          "name": "stdout",
          "text": [
            "enter a integer:41\n",
            "got integer 41\n",
            "enter a integer:78\n",
            "got integer 78\n",
            "enter a integer:51\n",
            "got integer 51\n",
            "enter a integer:77\n",
            "got integer 77\n",
            "enter a integer:95\n",
            "got integer 95\n",
            "enter a integer:2\n",
            "got integer 2\n",
            "enter a integer:10\n",
            "got integer 10\n",
            "enter a integer:65\n",
            "got integer 65\n",
            "enter a integer:12\n",
            "got integer 12\n",
            "enter a integer:7\n",
            "got integer 7\n",
            "you have entered: [41, 78, 51, 77, 95, 2, 10, 65, 12, 7]\n"
          ]
        }
      ]
    },
    {
      "cell_type": "markdown",
      "metadata": {
        "id": "AwAerp9lUd5k"
      },
      "source": [
        "## Sum of the list"
      ]
    },
    {
      "cell_type": "code",
      "metadata": {
        "colab": {
          "base_uri": "https://localhost:8080/"
        },
        "id": "14JDufmUUXq0",
        "outputId": "c0bba15c-37a4-4be7-80e6-7c53bfd6c565"
      },
      "source": [
        "sum = 0\n",
        "\n",
        "for i in the_list:\n",
        "  sum+= i\n",
        "print(\"sum =\", sum)  "
      ],
      "execution_count": 3,
      "outputs": [
        {
          "output_type": "stream",
          "name": "stdout",
          "text": [
            "sum = 438\n"
          ]
        }
      ]
    },
    {
      "cell_type": "markdown",
      "metadata": {
        "id": "FbehmhTZUomF"
      },
      "source": [
        "## i. Minimum integer of the list"
      ]
    },
    {
      "cell_type": "code",
      "metadata": {
        "id": "aKjuS2D4bAUf",
        "colab": {
          "base_uri": "https://localhost:8080/"
        },
        "outputId": "6c6ea1e4-016c-444c-851e-43545c242763"
      },
      "source": [
        "def smallest( list ):\n",
        "    minimum = list[ 0 ]\n",
        "    for a in list:\n",
        "        if a < minimum:\n",
        "            minimum = a\n",
        "    return minimum\n",
        "x = (smallest(the_list))\n",
        "print(\"Minimum integer of list:\",x)"
      ],
      "execution_count": 42,
      "outputs": [
        {
          "output_type": "stream",
          "name": "stdout",
          "text": [
            "Minimum integer of list: 2\n"
          ]
        }
      ]
    },
    {
      "cell_type": "markdown",
      "metadata": {
        "id": "3sLkOO8oUrzd"
      },
      "source": [
        "##ii. Maximum integer of the list"
      ]
    },
    {
      "cell_type": "code",
      "metadata": {
        "colab": {
          "base_uri": "https://localhost:8080/"
        },
        "id": "kILYfqIdIUMR",
        "outputId": "6620a96c-2318-44fe-aa6c-8b4bb5f068a6"
      },
      "source": [
        "def largest( list ):\n",
        "    maximum = list[ 0 ]\n",
        "    for a in list:\n",
        "        if a > maximum:\n",
        "            maximum = a\n",
        "    return maximum\n",
        "y = (largest(the_list))\n",
        "print(\"Maximum integer of list:\",y)"
      ],
      "execution_count": 41,
      "outputs": [
        {
          "output_type": "stream",
          "name": "stdout",
          "text": [
            "Maximum integer of list: 95\n"
          ]
        }
      ]
    },
    {
      "cell_type": "markdown",
      "metadata": {
        "id": "yv6NBnHbelYc"
      },
      "source": [
        "##iii. Range of the list"
      ]
    },
    {
      "cell_type": "code",
      "metadata": {
        "colab": {
          "base_uri": "https://localhost:8080/"
        },
        "id": "_4Pa74VHR4iJ",
        "outputId": "1e5c9ba0-80a3-4b91-bfb2-a61581cade39"
      },
      "source": [
        "range_list = (y-x)\n",
        "\n",
        "print(\"Range of list:\",range_list)"
      ],
      "execution_count": 40,
      "outputs": [
        {
          "output_type": "stream",
          "name": "stdout",
          "text": [
            "Range of list: 93\n"
          ]
        }
      ]
    },
    {
      "cell_type": "markdown",
      "metadata": {
        "id": "vJMsHxpbUk7J"
      },
      "source": [
        "## iv. Mean of the list"
      ]
    },
    {
      "cell_type": "code",
      "metadata": {
        "colab": {
          "base_uri": "https://localhost:8080/"
        },
        "id": "v65Y0L8RWkIg",
        "outputId": "3a474c94-7820-434b-caab-df113818cea0"
      },
      "source": [
        "mean = sum/len(the_list)\n",
        "\n",
        "print(\"Mean of list:\",mean)"
      ],
      "execution_count": 39,
      "outputs": [
        {
          "output_type": "stream",
          "name": "stdout",
          "text": [
            "Mean of list: 43.8\n"
          ]
        }
      ]
    },
    {
      "cell_type": "markdown",
      "metadata": {
        "id": "Hth2HJ3pUvNm"
      },
      "source": [
        "##v. Variance of the list"
      ]
    },
    {
      "cell_type": "code",
      "metadata": {
        "colab": {
          "base_uri": "https://localhost:8080/"
        },
        "id": "-Ro8gsYlKVn8",
        "outputId": "65822927-7111-4b1f-b7ff-f119695e72bd"
      },
      "source": [
        "Mklast = 0\n",
        "Mk = 0\n",
        "Sk = 0\n",
        "k  = 0 \n",
        "\n",
        "for xi in the_list:\n",
        "  k = k +1\n",
        "  Mk = Mklast + (xi - Mklast) / k\n",
        "  Sk = Sk + (xi - Mklast) * ( xi - Mk)\n",
        "  Mklast = Mk\n",
        "\n",
        "var = Sk / (k -1)\n",
        "print (\"Variance of list is:\",var)"
      ],
      "execution_count": 38,
      "outputs": [
        {
          "output_type": "stream",
          "name": "stdout",
          "text": [
            "Variance of list is: 1184.177777777778\n"
          ]
        }
      ]
    },
    {
      "cell_type": "markdown",
      "metadata": {
        "id": "jPCEb2BpUxbj"
      },
      "source": [
        "##vi. Standard deviation of the list"
      ]
    },
    {
      "cell_type": "code",
      "metadata": {
        "colab": {
          "base_uri": "https://localhost:8080/"
        },
        "id": "jjqsExuiNoEf",
        "outputId": "36d5cf55-25a0-449f-e439-d3565745cb2b"
      },
      "source": [
        "res = var ** 0.5\n",
        "\n",
        "print(\"Standard deviation of list is : \" + str(res))"
      ],
      "execution_count": 22,
      "outputs": [
        {
          "output_type": "stream",
          "name": "stdout",
          "text": [
            "Standard deviation of list is : 34.41188425206876\n"
          ]
        }
      ]
    }
  ]
}