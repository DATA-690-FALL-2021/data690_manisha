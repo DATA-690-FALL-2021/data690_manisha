{
  "nbformat": 4,
  "nbformat_minor": 0,
  "metadata": {
    "colab": {
      "name": "in_session_practices_02.ipynb",
      "provenance": [],
      "authorship_tag": "ABX9TyNMmokKh5uUQhoBsRetXoON",
      "include_colab_link": true
    },
    "kernelspec": {
      "name": "python3",
      "display_name": "Python 3"
    },
    "language_info": {
      "name": "python"
    }
  },
  "cells": [
    {
      "cell_type": "markdown",
      "metadata": {
        "id": "view-in-github",
        "colab_type": "text"
      },
      "source": [
        "<a href=\"https://colab.research.google.com/github/bmanisha7/data690_manisha/blob/main/assignment_02/in_session_practices_02.ipynb\" target=\"_parent\"><img src=\"https://colab.research.google.com/assets/colab-badge.svg\" alt=\"Open In Colab\"/></a>"
      ]
    },
    {
      "cell_type": "markdown",
      "metadata": {
        "id": "d-5CE3nD-e7p"
      },
      "source": [
        "# In-session Hands-on Practices\n",
        "Manisha Basavanna\n"
      ]
    },
    {
      "cell_type": "markdown",
      "metadata": {
        "id": "yB5KN3pE_RWP"
      },
      "source": [
        "##1. Simple Types"
      ]
    },
    {
      "cell_type": "code",
      "metadata": {
        "colab": {
          "base_uri": "https://localhost:8080/"
        },
        "id": "pF4udzPn-tcG",
        "outputId": "7a8330c5-6645-4a7c-e3f9-b935ea6856dd"
      },
      "source": [
        "x = 5  #integer\n",
        "y = 0.5 #float\n",
        "s = \"Hello\" #string, a collection of character\n",
        "print(x, y, s)"
      ],
      "execution_count": 1,
      "outputs": [
        {
          "output_type": "stream",
          "name": "stdout",
          "text": [
            "5 0.5 Hello\n"
          ]
        }
      ]
    },
    {
      "cell_type": "code",
      "metadata": {
        "colab": {
          "base_uri": "https://localhost:8080/"
        },
        "id": "Fx_SQl_6_-OF",
        "outputId": "89a26572-e0bd-493b-b043-5d4195ad5e55"
      },
      "source": [
        "type(x)"
      ],
      "execution_count": 4,
      "outputs": [
        {
          "output_type": "execute_result",
          "data": {
            "text/plain": [
              "int"
            ]
          },
          "metadata": {},
          "execution_count": 4
        }
      ]
    },
    {
      "cell_type": "code",
      "metadata": {
        "colab": {
          "base_uri": "https://localhost:8080/"
        },
        "id": "73oYY3FRACGr",
        "outputId": "bfd10974-0027-4969-f365-0140f5ce4134"
      },
      "source": [
        "type(s)"
      ],
      "execution_count": 5,
      "outputs": [
        {
          "output_type": "execute_result",
          "data": {
            "text/plain": [
              "str"
            ]
          },
          "metadata": {},
          "execution_count": 5
        }
      ]
    },
    {
      "cell_type": "markdown",
      "metadata": {
        "id": "fupV5N2B_YqD"
      },
      "source": [
        "## 2. Collection Type\n"
      ]
    },
    {
      "cell_type": "code",
      "metadata": {
        "colab": {
          "base_uri": "https://localhost:8080/"
        },
        "id": "EWEwdvMB_Fdw",
        "outputId": "da0da96f-638e-4038-f24f-7f14e03a0b50"
      },
      "source": [
        "a_list = [1, 4, 7, 10]\n",
        "print(a_list)"
      ],
      "execution_count": 2,
      "outputs": [
        {
          "output_type": "stream",
          "name": "stdout",
          "text": [
            "[1, 4, 7, 10]\n"
          ]
        }
      ]
    },
    {
      "cell_type": "code",
      "metadata": {
        "colab": {
          "base_uri": "https://localhost:8080/"
        },
        "id": "TTHOGQtY_tZP",
        "outputId": "3dabc3a7-3738-471f-b99e-433dd5d5d9c9"
      },
      "source": [
        "type(a_list)"
      ],
      "execution_count": 3,
      "outputs": [
        {
          "output_type": "execute_result",
          "data": {
            "text/plain": [
              "list"
            ]
          },
          "metadata": {},
          "execution_count": 3
        }
      ]
    },
    {
      "cell_type": "markdown",
      "metadata": {
        "id": "vd0SMd7RANeT"
      },
      "source": [
        "## 3. Loop"
      ]
    },
    {
      "cell_type": "code",
      "metadata": {
        "colab": {
          "base_uri": "https://localhost:8080/"
        },
        "id": "1gn28ntP_1Wn",
        "outputId": "33e532f0-dbaa-4d9c-c0d5-083ec75d94d4"
      },
      "source": [
        "for i in a_list:\n",
        "  print(\"integer\",i)"
      ],
      "execution_count": 8,
      "outputs": [
        {
          "output_type": "stream",
          "name": "stdout",
          "text": [
            "integer 1\n",
            "integer 4\n",
            "integer 7\n",
            "integer 10\n"
          ]
        }
      ]
    },
    {
      "cell_type": "markdown",
      "metadata": {
        "id": "KVDg5-O1BnjQ"
      },
      "source": [
        "## 4. Conditions"
      ]
    },
    {
      "cell_type": "code",
      "metadata": {
        "colab": {
          "base_uri": "https://localhost:8080/"
        },
        "id": "PhE7gw9zAgAc",
        "outputId": "77e71b23-220e-43f7-cccf-bdba88c4caf6"
      },
      "source": [
        "print(10 % 2) # modula"
      ],
      "execution_count": 10,
      "outputs": [
        {
          "output_type": "stream",
          "name": "stdout",
          "text": [
            "0\n"
          ]
        }
      ]
    },
    {
      "cell_type": "code",
      "metadata": {
        "colab": {
          "base_uri": "https://localhost:8080/"
        },
        "id": "mg-Sa-0BB7FN",
        "outputId": "b4e03a1d-0295-4777-e64a-539983ac367b"
      },
      "source": [
        "print(23 % 2) #modula"
      ],
      "execution_count": 11,
      "outputs": [
        {
          "output_type": "stream",
          "name": "stdout",
          "text": [
            "1\n"
          ]
        }
      ]
    },
    {
      "cell_type": "code",
      "metadata": {
        "colab": {
          "base_uri": "https://localhost:8080/"
        },
        "id": "qSMR4AK5CHmq",
        "outputId": "7d6b97df-66a3-4fcc-bbe5-21997f78521f"
      },
      "source": [
        "for i in a_list:\n",
        "  if i % 2 == 1:\n",
        "      print(\"Odd number\", i)"
      ],
      "execution_count": 12,
      "outputs": [
        {
          "output_type": "stream",
          "name": "stdout",
          "text": [
            "Odd number 1\n",
            "Odd number 7\n"
          ]
        }
      ]
    }
  ]
}