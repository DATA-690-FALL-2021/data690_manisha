{
  "nbformat": 4,
  "nbformat_minor": 0,
  "metadata": {
    "colab": {
      "name": "in_session_practices_02.ipynb",
      "provenance": [],
      "authorship_tag": "ABX9TyN2QpAFJEuW+08BDQOnpGJO",
      "include_colab_link": true
    },
    "kernelspec": {
      "name": "python3",
      "display_name": "Python 3"
    },
    "language_info": {
      "name": "python"
    }
  },
  "cells": [
    {
      "cell_type": "markdown",
      "metadata": {
        "id": "view-in-github",
        "colab_type": "text"
      },
      "source": [
        "<a href=\"https://colab.research.google.com/github/bmanisha7/data690_manisha/blob/main/assignment_02/in_session_practices_02.ipynb\" target=\"_parent\"><img src=\"https://colab.research.google.com/assets/colab-badge.svg\" alt=\"Open In Colab\"/></a>"
      ]
    },
    {
      "cell_type": "markdown",
      "metadata": {
        "id": "d-5CE3nD-e7p"
      },
      "source": [
        "# In-session Hands-on Practices\n",
        "Manisha Basavanna\n"
      ]
    },
    {
      "cell_type": "markdown",
      "metadata": {
        "id": "yB5KN3pE_RWP"
      },
      "source": [
        "##1. Simple Types\n",
        "- int\n",
        "- float\n",
        "- str\n",
        "- boolean (True/False, First letter UPPER CASE)\n",
        "- NaN (Not an Number, null value)"
      ]
    },
    {
      "cell_type": "code",
      "metadata": {
        "colab": {
          "base_uri": "https://localhost:8080/"
        },
        "id": "pF4udzPn-tcG",
        "outputId": "7a8330c5-6645-4a7c-e3f9-b935ea6856dd"
      },
      "source": [
        "x = 5  #integer\n",
        "y = 0.5 #float\n",
        "s = \"Hello\" #string, a collection of character\n",
        "print(x, y, s)"
      ],
      "execution_count": 1,
      "outputs": [
        {
          "output_type": "stream",
          "name": "stdout",
          "text": [
            "5 0.5 Hello\n"
          ]
        }
      ]
    },
    {
      "cell_type": "code",
      "metadata": {
        "colab": {
          "base_uri": "https://localhost:8080/"
        },
        "id": "Fx_SQl_6_-OF",
        "outputId": "89a26572-e0bd-493b-b043-5d4195ad5e55"
      },
      "source": [
        "type(x)"
      ],
      "execution_count": 4,
      "outputs": [
        {
          "output_type": "execute_result",
          "data": {
            "text/plain": [
              "int"
            ]
          },
          "metadata": {},
          "execution_count": 4
        }
      ]
    },
    {
      "cell_type": "code",
      "metadata": {
        "colab": {
          "base_uri": "https://localhost:8080/"
        },
        "id": "73oYY3FRACGr",
        "outputId": "bfd10974-0027-4969-f365-0140f5ce4134"
      },
      "source": [
        "type(s)"
      ],
      "execution_count": 5,
      "outputs": [
        {
          "output_type": "execute_result",
          "data": {
            "text/plain": [
              "str"
            ]
          },
          "metadata": {},
          "execution_count": 5
        }
      ]
    },
    {
      "cell_type": "markdown",
      "metadata": {
        "id": "fupV5N2B_YqD"
      },
      "source": [
        "## 2. Collection Type\n"
      ]
    },
    {
      "cell_type": "code",
      "metadata": {
        "colab": {
          "base_uri": "https://localhost:8080/"
        },
        "id": "EWEwdvMB_Fdw",
        "outputId": "da0da96f-638e-4038-f24f-7f14e03a0b50"
      },
      "source": [
        "a_list = [1, 4, 7, 10]\n",
        "print(a_list)"
      ],
      "execution_count": 2,
      "outputs": [
        {
          "output_type": "stream",
          "name": "stdout",
          "text": [
            "[1, 4, 7, 10]\n"
          ]
        }
      ]
    },
    {
      "cell_type": "code",
      "metadata": {
        "colab": {
          "base_uri": "https://localhost:8080/"
        },
        "id": "TTHOGQtY_tZP",
        "outputId": "3dabc3a7-3738-471f-b99e-433dd5d5d9c9"
      },
      "source": [
        "type(a_list)"
      ],
      "execution_count": 3,
      "outputs": [
        {
          "output_type": "execute_result",
          "data": {
            "text/plain": [
              "list"
            ]
          },
          "metadata": {},
          "execution_count": 3
        }
      ]
    },
    {
      "cell_type": "markdown",
      "metadata": {
        "id": "vd0SMd7RANeT"
      },
      "source": [
        "## 3. Loop"
      ]
    },
    {
      "cell_type": "code",
      "metadata": {
        "colab": {
          "base_uri": "https://localhost:8080/"
        },
        "id": "1gn28ntP_1Wn",
        "outputId": "33e532f0-dbaa-4d9c-c0d5-083ec75d94d4"
      },
      "source": [
        "for i in a_list:\n",
        "  print(\"integer\",i)"
      ],
      "execution_count": 8,
      "outputs": [
        {
          "output_type": "stream",
          "name": "stdout",
          "text": [
            "integer 1\n",
            "integer 4\n",
            "integer 7\n",
            "integer 10\n"
          ]
        }
      ]
    },
    {
      "cell_type": "markdown",
      "metadata": {
        "id": "KVDg5-O1BnjQ"
      },
      "source": [
        "## 4. Conditions"
      ]
    },
    {
      "cell_type": "code",
      "metadata": {
        "colab": {
          "base_uri": "https://localhost:8080/"
        },
        "id": "PhE7gw9zAgAc",
        "outputId": "77e71b23-220e-43f7-cccf-bdba88c4caf6"
      },
      "source": [
        "print(10 % 2) # modula"
      ],
      "execution_count": 10,
      "outputs": [
        {
          "output_type": "stream",
          "name": "stdout",
          "text": [
            "0\n"
          ]
        }
      ]
    },
    {
      "cell_type": "code",
      "metadata": {
        "colab": {
          "base_uri": "https://localhost:8080/"
        },
        "id": "mg-Sa-0BB7FN",
        "outputId": "b4e03a1d-0295-4777-e64a-539983ac367b"
      },
      "source": [
        "print(23 % 2) #modula"
      ],
      "execution_count": 11,
      "outputs": [
        {
          "output_type": "stream",
          "name": "stdout",
          "text": [
            "1\n"
          ]
        }
      ]
    },
    {
      "cell_type": "code",
      "metadata": {
        "colab": {
          "base_uri": "https://localhost:8080/"
        },
        "id": "qSMR4AK5CHmq",
        "outputId": "7d6b97df-66a3-4fcc-bbe5-21997f78521f"
      },
      "source": [
        "for i in a_list:\n",
        "  if i % 2 == 1:\n",
        "      print(\"Odd number\", i)"
      ],
      "execution_count": 12,
      "outputs": [
        {
          "output_type": "stream",
          "name": "stdout",
          "text": [
            "Odd number 1\n",
            "Odd number 7\n"
          ]
        }
      ]
    },
    {
      "cell_type": "markdown",
      "metadata": {
        "id": "oY33jbO3KioA"
      },
      "source": [
        "## 5. Python build-in functions\n",
        "- range()\n",
        "- list()\n",
        "- int()\n",
        "- str()\n",
        "- len() the num of items in a collection"
      ]
    },
    {
      "cell_type": "code",
      "metadata": {
        "colab": {
          "base_uri": "https://localhost:8080/"
        },
        "id": "GeaDB2y9Ksxm",
        "outputId": "5b96e3c0-a11c-4ef6-9d4d-30f6141e1b15"
      },
      "source": [
        "for i in range(10, 21, 2):   # start = 10, stop = 21 (upto 20, not including 21), step = 2\n",
        "    print(i)"
      ],
      "execution_count": 13,
      "outputs": [
        {
          "output_type": "stream",
          "name": "stdout",
          "text": [
            "10\n",
            "12\n",
            "14\n",
            "16\n",
            "18\n",
            "20\n"
          ]
        }
      ]
    },
    {
      "cell_type": "code",
      "metadata": {
        "colab": {
          "base_uri": "https://localhost:8080/"
        },
        "id": "r8F7HsXNLjjT",
        "outputId": "7379ce11-9d16-4e7d-f4d1-fe87546f6896"
      },
      "source": [
        "for j in range(0,5):\n",
        "  print(j)"
      ],
      "execution_count": 15,
      "outputs": [
        {
          "output_type": "stream",
          "name": "stdout",
          "text": [
            "0\n",
            "1\n",
            "2\n",
            "3\n",
            "4\n"
          ]
        }
      ]
    },
    {
      "cell_type": "code",
      "metadata": {
        "colab": {
          "base_uri": "https://localhost:8080/"
        },
        "id": "8LXV4P6wL2ee",
        "outputId": "5428d8b2-ea34-4e11-e326-35424f6934a0"
      },
      "source": [
        "print(list(range(0,5)))"
      ],
      "execution_count": 16,
      "outputs": [
        {
          "output_type": "stream",
          "name": "stdout",
          "text": [
            "[0, 1, 2, 3, 4]\n"
          ]
        }
      ]
    },
    {
      "cell_type": "code",
      "metadata": {
        "colab": {
          "base_uri": "https://localhost:8080/"
        },
        "id": "UhemY3HVMkl3",
        "outputId": "9c44c4bf-883b-46f1-89b7-b69981d364ef"
      },
      "source": [
        "x = \"50\"\n",
        "type(x)"
      ],
      "execution_count": 17,
      "outputs": [
        {
          "output_type": "execute_result",
          "data": {
            "text/plain": [
              "str"
            ]
          },
          "metadata": {},
          "execution_count": 17
        }
      ]
    },
    {
      "cell_type": "code",
      "metadata": {
        "colab": {
          "base_uri": "https://localhost:8080/"
        },
        "id": "JlkPcdGBM8wB",
        "outputId": "443cdf76-42a2-435c-b8aa-640bbed646a7"
      },
      "source": [
        "y = int(x)\n",
        "type(y)"
      ],
      "execution_count": 18,
      "outputs": [
        {
          "output_type": "execute_result",
          "data": {
            "text/plain": [
              "int"
            ]
          },
          "metadata": {},
          "execution_count": 18
        }
      ]
    },
    {
      "cell_type": "code",
      "metadata": {
        "colab": {
          "base_uri": "https://localhost:8080/"
        },
        "id": "tII1wFGyNFnL",
        "outputId": "27f10a4f-79df-4141-9aec-e122b0c46be0"
      },
      "source": [
        "print(x, y)"
      ],
      "execution_count": 19,
      "outputs": [
        {
          "output_type": "stream",
          "name": "stdout",
          "text": [
            "50 50\n"
          ]
        }
      ]
    },
    {
      "cell_type": "markdown",
      "metadata": {
        "id": "SOC4jYBaNils"
      },
      "source": [
        "## 6. Accepting User Inputs"
      ]
    },
    {
      "cell_type": "code",
      "metadata": {
        "colab": {
          "base_uri": "https://localhost:8080/"
        },
        "id": "4JlTpSOlNKBs",
        "outputId": "8fa5b680-2c89-4f01-f9b9-2b1e814da735"
      },
      "source": [
        "x = input(\"Enter an integer:\")"
      ],
      "execution_count": 20,
      "outputs": [
        {
          "name": "stdout",
          "output_type": "stream",
          "text": [
            "Enter an integer:10\n"
          ]
        }
      ]
    },
    {
      "cell_type": "code",
      "metadata": {
        "colab": {
          "base_uri": "https://localhost:8080/"
        },
        "id": "LstdPWT6Nz-Q",
        "outputId": "c1785398-89c5-46a4-e7b3-b5e8726fe272"
      },
      "source": [
        "print(x)"
      ],
      "execution_count": 21,
      "outputs": [
        {
          "output_type": "stream",
          "name": "stdout",
          "text": [
            "10\n"
          ]
        }
      ]
    },
    {
      "cell_type": "code",
      "metadata": {
        "colab": {
          "base_uri": "https://localhost:8080/"
        },
        "id": "YTXk9Eu8N8cO",
        "outputId": "8d0b5adb-9759-40b2-d840-003cc5a57e20"
      },
      "source": [
        "type(x)"
      ],
      "execution_count": 22,
      "outputs": [
        {
          "output_type": "execute_result",
          "data": {
            "text/plain": [
              "str"
            ]
          },
          "metadata": {},
          "execution_count": 22
        }
      ]
    },
    {
      "cell_type": "code",
      "metadata": {
        "colab": {
          "base_uri": "https://localhost:8080/"
        },
        "id": "UAlP_lbWOAR6",
        "outputId": "e4f8715b-5c06-45f0-ad54-562b56763484"
      },
      "source": [
        "x = input(\"Enter an integer:\")"
      ],
      "execution_count": 24,
      "outputs": [
        {
          "name": "stdout",
          "output_type": "stream",
          "text": [
            "Enter an integer:basavanna\n"
          ]
        }
      ]
    },
    {
      "cell_type": "code",
      "metadata": {
        "colab": {
          "base_uri": "https://localhost:8080/"
        },
        "id": "8MYTjVp6OK_5",
        "outputId": "fa07bf89-104f-45fd-eead-19d5ee89c190"
      },
      "source": [
        "print(x)"
      ],
      "execution_count": 25,
      "outputs": [
        {
          "output_type": "stream",
          "name": "stdout",
          "text": [
            "basavanna\n"
          ]
        }
      ]
    },
    {
      "cell_type": "markdown",
      "metadata": {
        "id": "jfiRRYXYObAj"
      },
      "source": [
        "## 7 . Exception handling"
      ]
    },
    {
      "cell_type": "code",
      "metadata": {
        "colab": {
          "base_uri": "https://localhost:8080/",
          "height": 186
        },
        "id": "Xk3gjT7uOQ0s",
        "outputId": "1835617b-f05d-4597-b462-a75a5702ae1e"
      },
      "source": [
        "y = int(x)\n",
        "print(y)"
      ],
      "execution_count": 27,
      "outputs": [
        {
          "output_type": "error",
          "ename": "ValueError",
          "evalue": "ignored",
          "traceback": [
            "\u001b[0;31m---------------------------------------------------------------------------\u001b[0m",
            "\u001b[0;31mValueError\u001b[0m                                Traceback (most recent call last)",
            "\u001b[0;32m<ipython-input-27-049714fa7447>\u001b[0m in \u001b[0;36m<module>\u001b[0;34m()\u001b[0m\n\u001b[0;32m----> 1\u001b[0;31m \u001b[0my\u001b[0m \u001b[0;34m=\u001b[0m \u001b[0mint\u001b[0m\u001b[0;34m(\u001b[0m\u001b[0mx\u001b[0m\u001b[0;34m)\u001b[0m\u001b[0;34m\u001b[0m\u001b[0;34m\u001b[0m\u001b[0m\n\u001b[0m\u001b[1;32m      2\u001b[0m \u001b[0mprint\u001b[0m\u001b[0;34m(\u001b[0m\u001b[0my\u001b[0m\u001b[0;34m)\u001b[0m\u001b[0;34m\u001b[0m\u001b[0;34m\u001b[0m\u001b[0m\n",
            "\u001b[0;31mValueError\u001b[0m: invalid literal for int() with base 10: 'basavanna'"
          ]
        }
      ]
    },
    {
      "cell_type": "code",
      "metadata": {
        "colab": {
          "base_uri": "https://localhost:8080/"
        },
        "id": "0JcoAoRROiOK",
        "outputId": "c275cfa3-b9b4-4f15-d35b-87460e4d96b8"
      },
      "source": [
        "y = int(\"50\")\n",
        "print(y)"
      ],
      "execution_count": 28,
      "outputs": [
        {
          "output_type": "stream",
          "name": "stdout",
          "text": [
            "50\n"
          ]
        }
      ]
    },
    {
      "cell_type": "code",
      "metadata": {
        "colab": {
          "base_uri": "https://localhost:8080/"
        },
        "id": "uZ_sa8UhOxBm",
        "outputId": "b051cee4-476c-44f8-e116-cb9d2cdd3d0f"
      },
      "source": [
        "#exception handling\n",
        "x = input(\"Please enter an integer:\")\n",
        "try:\n",
        "  y = int(x)\n",
        "  print(\"got integer:\", y)\n",
        "except:\n",
        "  print(\"Unable to convert the input to an integer\")   "
      ],
      "execution_count": 30,
      "outputs": [
        {
          "output_type": "stream",
          "name": "stdout",
          "text": [
            "Please enter an integer:manisha\n",
            "Unable to convert the input to an integer\n"
          ]
        }
      ]
    },
    {
      "cell_type": "markdown",
      "metadata": {
        "id": "pFJHD-PaPxEU"
      },
      "source": [
        "## Infinite Loop"
      ]
    },
    {
      "cell_type": "code",
      "metadata": {
        "colab": {
          "base_uri": "https://localhost:8080/"
        },
        "id": "OHEoZclrPRWI",
        "outputId": "39ced5f3-4f24-443f-d0c5-1a1fec22aab7"
      },
      "source": [
        "while True:\n",
        "  x = input(\"Please enter an integer:\")\n",
        "  try:\n",
        "    y = int(x)\n",
        "    print(\"got integer:\", y)\n",
        "    break\n",
        "  except:\n",
        "    print(\"You must enter an integer. Please try again\")   "
      ],
      "execution_count": 34,
      "outputs": [
        {
          "output_type": "stream",
          "name": "stdout",
          "text": [
            "Please enter an integer:mani\n",
            "You must enter an integer. Please try again\n",
            "Please enter an integer:class\n",
            "You must enter an integer. Please try again\n",
            "Please enter an integer:45you\n",
            "You must enter an integer. Please try again\n",
            "Please enter an integer:12\n",
            "got integer: 12\n"
          ]
        }
      ]
    },
    {
      "cell_type": "code",
      "metadata": {
        "colab": {
          "base_uri": "https://localhost:8080/"
        },
        "id": "oc5fUYEcQXK1",
        "outputId": "439b96be-ced0-4e63-d2e2-4f1e0a227af8"
      },
      "source": [
        "the_list= []\n",
        "for i in range(0,3):\n",
        "  while True:\n",
        "      a= input(\"enter a integer:\")\n",
        "      try:\n",
        "        b = int(a)\n",
        "        the_list.append(b)\n",
        "        print(\"got integer\",a)\n",
        "        break\n",
        "      except:\n",
        "        print(\"You must enter an integer. Please try again.\")\n",
        "\n",
        "print(\"you have entered:\", the_list)"
      ],
      "execution_count": 35,
      "outputs": [
        {
          "output_type": "stream",
          "name": "stdout",
          "text": [
            "enter a integer:15\n",
            "got integer 15\n",
            "enter a integer:45\n",
            "got integer 45\n",
            "enter a integer:85\n",
            "got integer 85\n",
            "you have entered: [15, 45, 85]\n"
          ]
        }
      ]
    },
    {
      "cell_type": "code",
      "metadata": {
        "colab": {
          "base_uri": "https://localhost:8080/"
        },
        "id": "mKbSGvFqXM8E",
        "outputId": "15a16e9e-a80f-420e-c691-33b1d728a9a7"
      },
      "source": [
        "sum = 0\n",
        "\n",
        "for i in the_list:\n",
        "  sum+= i\n",
        "print(\"sum =\", sum) "
      ],
      "execution_count": 36,
      "outputs": [
        {
          "output_type": "stream",
          "name": "stdout",
          "text": [
            "sum = 145\n"
          ]
        }
      ]
    },
    {
      "cell_type": "code",
      "metadata": {
        "colab": {
          "base_uri": "https://localhost:8080/"
        },
        "id": "y1WbsWphXRgo",
        "outputId": "38955758-5591-4da9-9d1f-64280e2bd9c7"
      },
      "source": [
        "mean = sum/len(the_list)\n",
        "print(mean)"
      ],
      "execution_count": 37,
      "outputs": [
        {
          "output_type": "stream",
          "name": "stdout",
          "text": [
            "48.333333333333336\n"
          ]
        }
      ]
    },
    {
      "cell_type": "code",
      "metadata": {
        "id": "TP0nF_dXXUHs"
      },
      "source": [
        ""
      ],
      "execution_count": null,
      "outputs": []
    }
  ]
}